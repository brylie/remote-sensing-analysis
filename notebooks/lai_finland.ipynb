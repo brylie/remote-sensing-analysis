{
 "cells": [
  {
   "cell_type": "code",
   "execution_count": 45,
   "id": "8ec0345e",
   "metadata": {},
   "outputs": [
    {
     "data": {
      "text/html": [
       "\n",
       "            <style>\n",
       "                .geemap-dark {\n",
       "                    --jp-widgets-color: white;\n",
       "                    --jp-widgets-label-color: white;\n",
       "                    --jp-ui-font-color1: white;\n",
       "                    --jp-layout-color2: #454545;\n",
       "                    background-color: #383838;\n",
       "                }\n",
       "\n",
       "                .geemap-dark .jupyter-button {\n",
       "                    --jp-layout-color3: #383838;\n",
       "                }\n",
       "\n",
       "                .geemap-colab {\n",
       "                    background-color: var(--colab-primary-surface-color, white);\n",
       "                }\n",
       "\n",
       "                .geemap-colab .jupyter-button {\n",
       "                    --jp-layout-color3: var(--colab-primary-surface-color, white);\n",
       "                }\n",
       "            </style>\n",
       "            "
      ],
      "text/plain": [
       "<IPython.core.display.HTML object>"
      ]
     },
     "metadata": {},
     "output_type": "display_data"
    },
    {
     "name": "stdout",
     "output_type": "stream",
     "text": [
      "Added project root to Python path: /Users/brylie/code/remote-sensing-analysis\n"
     ]
    }
   ],
   "source": [
    "# Add project root to Python path\n",
    "import os\n",
    "import sys\n",
    "\n",
    "# Get the absolute path to the project root directory\n",
    "project_root = os.path.abspath(os.path.join(os.getcwd(), '..'))\n",
    "\n",
    "# Add the project root to Python path if it's not already there\n",
    "if project_root not in sys.path:\n",
    "    sys.path.insert(0, project_root)\n",
    "\n",
    "# Verify the path is added correctly\n",
    "print(f\"Added project root to Python path: {project_root}\")"
   ]
  },
  {
   "cell_type": "code",
   "execution_count": 46,
   "id": "ee8cf35f-9b07-4952-91ca-a76a7c219e72",
   "metadata": {},
   "outputs": [
    {
     "data": {
      "text/html": [
       "\n",
       "            <style>\n",
       "                .geemap-dark {\n",
       "                    --jp-widgets-color: white;\n",
       "                    --jp-widgets-label-color: white;\n",
       "                    --jp-ui-font-color1: white;\n",
       "                    --jp-layout-color2: #454545;\n",
       "                    background-color: #383838;\n",
       "                }\n",
       "\n",
       "                .geemap-dark .jupyter-button {\n",
       "                    --jp-layout-color3: #383838;\n",
       "                }\n",
       "\n",
       "                .geemap-colab {\n",
       "                    background-color: var(--colab-primary-surface-color, white);\n",
       "                }\n",
       "\n",
       "                .geemap-colab .jupyter-button {\n",
       "                    --jp-layout-color3: var(--colab-primary-surface-color, white);\n",
       "                }\n",
       "            </style>\n",
       "            "
      ],
      "text/plain": [
       "<IPython.core.display.HTML object>"
      ]
     },
     "metadata": {},
     "output_type": "display_data"
    }
   ],
   "source": [
    "import geemap\n",
    "import ee\n",
    "from config.areas import get_area\n",
    "from src.extractors.sentinel import get_sentinel_data\n",
    "from src.metrics.vegetation import calculate_evi, calculate_lai\n",
    "from src.metrics.moisture import calculate_msi\n",
    "from src.processors.preprocessing import add_date"
   ]
  },
  {
   "cell_type": "markdown",
   "id": "fe6c787b",
   "metadata": {},
   "source": [
    "Original source: https://github.com/krishnakafle/Blog_kaflekrishna/blob/main/GEE/LAI/LAI_calculations.ipynb"
   ]
  },
  {
   "cell_type": "code",
   "execution_count": 47,
   "id": "e0538f6d-03aa-4559-a3ff-3f32057ffcb7",
   "metadata": {},
   "outputs": [
    {
     "data": {
      "text/html": [
       "\n",
       "            <style>\n",
       "                .geemap-dark {\n",
       "                    --jp-widgets-color: white;\n",
       "                    --jp-widgets-label-color: white;\n",
       "                    --jp-ui-font-color1: white;\n",
       "                    --jp-layout-color2: #454545;\n",
       "                    background-color: #383838;\n",
       "                }\n",
       "\n",
       "                .geemap-dark .jupyter-button {\n",
       "                    --jp-layout-color3: #383838;\n",
       "                }\n",
       "\n",
       "                .geemap-colab {\n",
       "                    background-color: var(--colab-primary-surface-color, white);\n",
       "                }\n",
       "\n",
       "                .geemap-colab .jupyter-button {\n",
       "                    --jp-layout-color3: var(--colab-primary-surface-color, white);\n",
       "                }\n",
       "            </style>\n",
       "            "
      ],
      "text/plain": [
       "<IPython.core.display.HTML object>"
      ]
     },
     "metadata": {},
     "output_type": "display_data"
    }
   ],
   "source": [
    "ee.Initialize()"
   ]
  },
  {
   "cell_type": "code",
   "execution_count": 48,
   "id": "bcb2855c-493c-4f39-844c-f6446a286aab",
   "metadata": {},
   "outputs": [
    {
     "data": {
      "text/html": [
       "\n",
       "            <style>\n",
       "                .geemap-dark {\n",
       "                    --jp-widgets-color: white;\n",
       "                    --jp-widgets-label-color: white;\n",
       "                    --jp-ui-font-color1: white;\n",
       "                    --jp-layout-color2: #454545;\n",
       "                    background-color: #383838;\n",
       "                }\n",
       "\n",
       "                .geemap-dark .jupyter-button {\n",
       "                    --jp-layout-color3: #383838;\n",
       "                }\n",
       "\n",
       "                .geemap-colab {\n",
       "                    background-color: var(--colab-primary-surface-color, white);\n",
       "                }\n",
       "\n",
       "                .geemap-colab .jupyter-button {\n",
       "                    --jp-layout-color3: var(--colab-primary-surface-color, white);\n",
       "                }\n",
       "            </style>\n",
       "            "
      ],
      "text/plain": [
       "<IPython.core.display.HTML object>"
      ]
     },
     "metadata": {},
     "output_type": "display_data"
    }
   ],
   "source": [
    "# Using get_area function from config.areas module to get Finland geometry\n",
    "area_of_interest = get_area(\"finland\")"
   ]
  },
  {
   "cell_type": "code",
   "execution_count": 49,
   "id": "aa025876-15ec-49ca-88bf-2f75fc7f5ef5",
   "metadata": {},
   "outputs": [
    {
     "data": {
      "text/html": [
       "\n",
       "            <style>\n",
       "                .geemap-dark {\n",
       "                    --jp-widgets-color: white;\n",
       "                    --jp-widgets-label-color: white;\n",
       "                    --jp-ui-font-color1: white;\n",
       "                    --jp-layout-color2: #454545;\n",
       "                    background-color: #383838;\n",
       "                }\n",
       "\n",
       "                .geemap-dark .jupyter-button {\n",
       "                    --jp-layout-color3: #383838;\n",
       "                }\n",
       "\n",
       "                .geemap-colab {\n",
       "                    background-color: var(--colab-primary-surface-color, white);\n",
       "                }\n",
       "\n",
       "                .geemap-colab .jupyter-button {\n",
       "                    --jp-layout-color3: var(--colab-primary-surface-color, white);\n",
       "                }\n",
       "            </style>\n",
       "            "
      ],
      "text/plain": [
       "<IPython.core.display.HTML object>"
      ]
     },
     "metadata": {},
     "output_type": "display_data"
    }
   ],
   "source": [
    "START_DATE = ee.Date(\"2024-10-01\")\n",
    "END_DATE = ee.Date(\"2024-11-01\")\n",
    "\n",
    "# Using get_sentinel_data function from src.extractors.sentinel module\n",
    "sentinel_data = get_sentinel_data(START_DATE, END_DATE, area_of_interest)\n",
    "\n",
    "# Apply EVI calculation to the fetched data\n",
    "sentinel_data_with_evi = sentinel_data.map(calculate_evi)"
   ]
  },
  {
   "cell_type": "code",
   "execution_count": 50,
   "id": "45d4b1d5-4df6-457a-8ac9-e9cd3e0bcf56",
   "metadata": {},
   "outputs": [
    {
     "data": {
      "text/html": [
       "\n",
       "            <style>\n",
       "                .geemap-dark {\n",
       "                    --jp-widgets-color: white;\n",
       "                    --jp-widgets-label-color: white;\n",
       "                    --jp-ui-font-color1: white;\n",
       "                    --jp-layout-color2: #454545;\n",
       "                    background-color: #383838;\n",
       "                }\n",
       "\n",
       "                .geemap-dark .jupyter-button {\n",
       "                    --jp-layout-color3: #383838;\n",
       "                }\n",
       "\n",
       "                .geemap-colab {\n",
       "                    background-color: var(--colab-primary-surface-color, white);\n",
       "                }\n",
       "\n",
       "                .geemap-colab .jupyter-button {\n",
       "                    --jp-layout-color3: var(--colab-primary-surface-color, white);\n",
       "                }\n",
       "            </style>\n",
       "            "
      ],
      "text/plain": [
       "<IPython.core.display.HTML object>"
      ]
     },
     "metadata": {},
     "output_type": "display_data"
    }
   ],
   "source": [
    "# Apply LAI calculation and add MSI calculation\n",
    "processed_data = (\n",
    "    sentinel_data_with_evi\n",
    "    .map(calculate_lai)\n",
    "    .map(calculate_msi)\n",
    "    .map(add_date)\n",
    ")\n",
    "\n",
    "# Create composite images for visualization\n",
    "composite_image = (\n",
    "    processed_data\n",
    "    .median()\n",
    "    .clip(area_of_interest)\n",
    ")"
   ]
  },
  {
   "cell_type": "markdown",
   "id": "b35ba737",
   "metadata": {},
   "source": [
    "## Visualizing Vegetation and Moisture Metrics\n",
    "\n",
    "Below we'll visualize two key metrics:\n",
    "- Leaf Area Index (LAI): Higher values indicate more leaf material and denser vegetation\n",
    "- Moisture Stress Index (MSI): Higher values indicate greater vegetation water stress\n",
    "\n",
    "Both metrics provide complementary information about vegetation health and status."
   ]
  },
  {
   "cell_type": "code",
   "execution_count": 51,
   "id": "52dd9c8e-cd6c-4f57-b7e5-2893b3edfa2c",
   "metadata": {},
   "outputs": [
    {
     "data": {
      "text/html": [
       "\n",
       "            <style>\n",
       "                .geemap-dark {\n",
       "                    --jp-widgets-color: white;\n",
       "                    --jp-widgets-label-color: white;\n",
       "                    --jp-ui-font-color1: white;\n",
       "                    --jp-layout-color2: #454545;\n",
       "                    background-color: #383838;\n",
       "                }\n",
       "\n",
       "                .geemap-dark .jupyter-button {\n",
       "                    --jp-layout-color3: #383838;\n",
       "                }\n",
       "\n",
       "                .geemap-colab {\n",
       "                    background-color: var(--colab-primary-surface-color, white);\n",
       "                }\n",
       "\n",
       "                .geemap-colab .jupyter-button {\n",
       "                    --jp-layout-color3: var(--colab-primary-surface-color, white);\n",
       "                }\n",
       "            </style>\n",
       "            "
      ],
      "text/plain": [
       "<IPython.core.display.HTML object>"
      ]
     },
     "metadata": {},
     "output_type": "display_data"
    },
    {
     "data": {
      "application/vnd.jupyter.widget-view+json": {
       "model_id": "f64b4a5927664f5190894f0621373277",
       "version_major": 2,
       "version_minor": 0
      },
      "text/plain": [
       "Map(center=[64.23487926926077, 26.152236411247713], controls=(WidgetControl(options=['position', 'transparent_…"
      ]
     },
     "execution_count": 51,
     "metadata": {},
     "output_type": "execute_result"
    }
   ],
   "source": [
    "# Set up color palettes for visualization\n",
    "veg_palette = [\n",
    "    \"FFFFFF\", \"CE7E45\", \"DF923D\", \"F1B555\", \"FCD163\", \"99B718\",\n",
    "    \"74A901\", \"66A000\", \"529400\", \"3E8601\", \"207401\", \"056201\",\n",
    "    \"004C00\", \"023B01\", \"012E01\", \"011D01\", \"011301\"\n",
    "]\n",
    "\n",
    "# LAI visualization parameters (higher = greener)\n",
    "lai_params = {\"min\": 0.5, \"max\": 3.5, \"palette\": veg_palette}\n",
    "\n",
    "# MSI visualization parameters (higher = more moisture stress)\n",
    "msi_params = {\"min\": 0.4, \"max\": 1.4, \"palette\": veg_palette[::-1]}\n",
    "\n",
    "# Create map\n",
    "map = geemap.Map()\n",
    "map.centerObject(area_of_interest, 8)\n",
    "\n",
    "# Add LAI layer\n",
    "map.addLayer(composite_image.select(\"LAI\"), lai_params, \"Leaf Area Index (LAI)\")\n",
    "\n",
    "# Add MSI layer\n",
    "map.addLayer(composite_image.select(\"MSI\"), msi_params, \"Moisture Stress Index (MSI)\")\n",
    "\n",
    "# Add layer controls and display the map\n",
    "map.addLayerControl()\n",
    "map"
   ]
  },
  {
   "cell_type": "code",
   "execution_count": 52,
   "id": "32afd026",
   "metadata": {},
   "outputs": [
    {
     "data": {
      "text/html": [
       "\n",
       "            <style>\n",
       "                .geemap-dark {\n",
       "                    --jp-widgets-color: white;\n",
       "                    --jp-widgets-label-color: white;\n",
       "                    --jp-ui-font-color1: white;\n",
       "                    --jp-layout-color2: #454545;\n",
       "                    background-color: #383838;\n",
       "                }\n",
       "\n",
       "                .geemap-dark .jupyter-button {\n",
       "                    --jp-layout-color3: #383838;\n",
       "                }\n",
       "\n",
       "                .geemap-colab {\n",
       "                    background-color: var(--colab-primary-surface-color, white);\n",
       "                }\n",
       "\n",
       "                .geemap-colab .jupyter-button {\n",
       "                    --jp-layout-color3: var(--colab-primary-surface-color, white);\n",
       "                }\n",
       "            </style>\n",
       "            "
      ],
      "text/plain": [
       "<IPython.core.display.HTML object>"
      ]
     },
     "metadata": {},
     "output_type": "display_data"
    },
    {
     "name": "stdout",
     "output_type": "stream",
     "text": [
      "LAI visualization URL: https://earthengine.googleapis.com/v1/projects/400372326428/thumbnails/ae5f80a65af33011c20e9dcc7c99831d-904d7236e53e6ae398bb91f884557080:getPixels\n",
      "MSI visualization URL: https://earthengine.googleapis.com/v1/projects/400372326428/thumbnails/b118b42a532e23aedcbf138cb603223d-a1b8433c77071fabd4440659572ad48a:getPixels\n"
     ]
    }
   ],
   "source": [
    "# Export a side-by-side comparison of LAI and MSI\n",
    "import matplotlib.pyplot as plt\n",
    "from IPython.display import display\n",
    "\n",
    "# Get images as numpy arrays for plotting\n",
    "region = area_of_interest.bounds().getInfo()['coordinates']\n",
    "scale = 5000  # Use a coarse scale for quick visualization\n",
    "\n",
    "# Function to fetch a band as an array\n",
    "def get_band_array(image: ee.Image, band_name: str) -> dict:\n",
    "    return image.select(band_name).getThumbURL({\n",
    "        'min': lai_params['min'] if band_name == 'LAI' else msi_params['min'],\n",
    "        'max': lai_params['max'] if band_name == 'LAI' else msi_params['max'],\n",
    "        'palette': lai_params['palette'] if band_name == 'LAI' else msi_params['palette'],\n",
    "        'dimensions': 500,\n",
    "        'region': region\n",
    "    })\n",
    "\n",
    "# Create URLs for both metrics\n",
    "lai_url = get_band_array(composite_image, 'LAI')\n",
    "msi_url = get_band_array(composite_image, 'MSI')\n",
    "\n",
    "print(f\"LAI visualization URL: {lai_url}\")\n",
    "print(f\"MSI visualization URL: {msi_url}\")"
   ]
  }
 ],
 "metadata": {
  "kernelspec": {
   "display_name": ".venv",
   "language": "python",
   "name": "python3"
  },
  "language_info": {
   "codemirror_mode": {
    "name": "ipython",
    "version": 3
   },
   "file_extension": ".py",
   "mimetype": "text/x-python",
   "name": "python",
   "nbconvert_exporter": "python",
   "pygments_lexer": "ipython3",
   "version": "3.12.7"
  }
 },
 "nbformat": 4,
 "nbformat_minor": 5
}
